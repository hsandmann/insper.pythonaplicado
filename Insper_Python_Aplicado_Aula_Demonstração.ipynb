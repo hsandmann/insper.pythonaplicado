{
  "nbformat": 4,
  "nbformat_minor": 0,
  "metadata": {
    "colab": {
      "name": "Insper :: Python Aplicado : Aula Demonstração",
      "version": "0.3.2",
      "provenance": [],
      "collapsed_sections": [],
      "include_colab_link": true
    },
    "kernelspec": {
      "name": "python3",
      "display_name": "Python 3"
    }
  },
  "cells": [
    {
      "cell_type": "markdown",
      "metadata": {
        "id": "view-in-github",
        "colab_type": "text"
      },
      "source": [
        "<a href=\"https://colab.research.google.com/github/hsandmann/insper.pythonaplicado/blob/master/Insper_Python_Aplicado_Aula_Demonstra%C3%A7%C3%A3o.ipynb\" target=\"_parent\"><img src=\"https://colab.research.google.com/assets/colab-badge.svg\" alt=\"Open In Colab\"/></a>"
      ]
    },
    {
      "cell_type": "markdown",
      "metadata": {
        "id": "0aYyMpOPWjLl",
        "colab_type": "text"
      },
      "source": [
        "![alt text](https://www.insper.edu.br/wp-content/themes/insper/dist/image/logo.png)\n",
        "\n",
        "# Python Aplicado\n",
        "## Aula Demonstração\n",
        "### Prof. Humberto Sandmann\n",
        "##### 27.06.2019\n",
        "---\n",
        "\n"
      ]
    },
    {
      "cell_type": "markdown",
      "metadata": {
        "id": "2xNEW6yn4Gzg",
        "colab_type": "text"
      },
      "source": [
        "### Objetivos\n",
        "\n",
        "* Entender e escrever códigos simples em Python;\n",
        "* Utilizar Python para confeccionar e manipular gráficos.\n",
        "---"
      ]
    },
    {
      "cell_type": "markdown",
      "metadata": {
        "id": "uVqyfEPgbxO4",
        "colab_type": "text"
      },
      "source": [
        "### 1. O que é Python?\n",
        "\n",
        "> Linguagem de programação:\n",
        "* alto nível (fácil aprendizagem);\n",
        "* uso geral;\n",
        "* interpretada;\n",
        "* 1991, mas está **hype**, pois tem um repertório amplo de bibliotecas.\n",
        "\n",
        "> Um programa é um script, o qual é **executado linha a linha**, eg.: \n",
        "* executa linha 1;\n",
        "* executa linha 2;\n",
        "* executa linha 3;\n",
        "* ...;\n",
        "* executa a última linha.\n",
        "\n",
        "> Pode ter repetições, desvios, funções e classes (pontos mais ousados, logo, serão tratados ao longo do curso).\n",
        "\n",
        "> #### Onde usar?\n",
        ">>\n",
        "* tratamento e processamento de dados;\n",
        "* tabelas;\n",
        "* estatísticas;\n",
        "* gráficos;\n",
        "* projeções;\n",
        "* aprendizado de máquina: predição e classificação;\n",
        "* experimentação científica;\n",
        "* etc."
      ]
    },
    {
      "cell_type": "markdown",
      "metadata": {
        "id": "7Jw7VZy43ibH",
        "colab_type": "text"
      },
      "source": [
        "### 2. Onde está o Python?\n",
        "\n",
        "> #### Local (no seu computador)\n",
        ">> \n",
        "* PyCharm\n",
        "* Spyder\n",
        "* Terminal\n",
        "\n",
        ">> Configurar o ambiente local (exercício para casa):\n",
        "* Instalar o Python\n",
        "* Instalar o Editor\n",
        "\n",
        "> #### Remoto (num servidor)\n",
        ">>\n",
        "* Jupyter Notebook\n",
        "\n",
        ">> Ambiente pronto pra usar:\n",
        "* Colaboratory da Google - **Colab**<br>\n",
        "[https://colab.research.google.com](https://colab.research.google.com)"
      ]
    },
    {
      "cell_type": "markdown",
      "metadata": {
        "id": "zL3jr92p3v-L",
        "colab_type": "text"
      },
      "source": [
        "### 3. Programando em Python"
      ]
    },
    {
      "cell_type": "markdown",
      "metadata": {
        "id": "s5xT4WFdXdWR",
        "colab_type": "text"
      },
      "source": [
        "#### 3a. Primeiro programa"
      ]
    },
    {
      "cell_type": "code",
      "metadata": {
        "id": "ac5J6GPwav9q",
        "colab_type": "code",
        "colab": {}
      },
      "source": [
        "print(\"Hello World\")    # Executa a linha, imprime no console \"Hello World\""
      ],
      "execution_count": 0,
      "outputs": []
    },
    {
      "cell_type": "markdown",
      "metadata": {
        "id": "hdsJW_eC379S",
        "colab_type": "text"
      },
      "source": [
        "#### 3b. Manipulando variáveis numéricas"
      ]
    },
    {
      "cell_type": "markdown",
      "metadata": {
        "id": "Ij2FJJHqVumh",
        "colab_type": "text"
      },
      "source": [
        "Usando como uma calculadora"
      ]
    },
    {
      "cell_type": "code",
      "metadata": {
        "id": "yPPMAahobE1Q",
        "colab_type": "code",
        "colab": {}
      },
      "source": [
        "a = 10                   # a recebe 10\n",
        "b = 20                   # b recebe 20\n",
        "c = a + b                # c recebe a + b\n",
        "\n",
        "print(c)                 # qual será o valor impresso no console?"
      ],
      "execution_count": 0,
      "outputs": []
    },
    {
      "cell_type": "markdown",
      "metadata": {
        "id": "GGy7VGVSU8hJ",
        "colab_type": "text"
      },
      "source": [
        "Relembrando um pouco a matemática"
      ]
    },
    {
      "cell_type": "code",
      "metadata": {
        "colab_type": "code",
        "id": "uNAb90e2VptI",
        "colab": {}
      },
      "source": [
        "a = 6                    # a recebe 6\n",
        "b = 2                    # b recebe 2\n",
        "c = a / b * (1 + a)      # c recebe a ÷ b × (1 + a) , sendo \"/\" divisão e \"*\" multiplicação\n",
        "\n",
        "\n",
        "print(c)                 # qual será o valor impresso no console?"
      ],
      "execution_count": 0,
      "outputs": []
    },
    {
      "cell_type": "markdown",
      "metadata": {
        "id": "hm9Oh34mWKCb",
        "colab_type": "text"
      },
      "source": [
        "#### 3c. Exercício: Faça um programa que calcule a área de um triângulo"
      ]
    },
    {
      "cell_type": "code",
      "metadata": {
        "id": "pPHQgbTnWIpS",
        "colab_type": "code",
        "colab": {}
      },
      "source": [
        "base = 10\n",
        "altura = 8\n",
        "# Como se calcula a área???\n",
        "\n"
      ],
      "execution_count": 0,
      "outputs": []
    },
    {
      "cell_type": "markdown",
      "metadata": {
        "id": "hqgJCAY3aGrP",
        "colab_type": "text"
      },
      "source": [
        "#### 3d. Manipulando dados e plotando, com dados gerados"
      ]
    },
    {
      "cell_type": "code",
      "metadata": {
        "id": "ZNct8ITTpdHN",
        "colab_type": "code",
        "colab": {}
      },
      "source": [
        "import matplotlib.pyplot as plt                 # importando uma biblioteca de gráfico!\n",
        "\n",
        "idade      = [17, 18, 19, 20, 21, 22, 23, 24]   # faixa das idades dos alunos da sala\n",
        "quantidade = [ 1,  4, 10, 13, 15, 12,  6,  2]   # quantidade de alunos de acordo com a idade\n",
        "\n",
        "plt.bar(idade, quantidade)                      # imprime um gráfico da relação idade x quantidade de alunos"
      ],
      "execution_count": 0,
      "outputs": []
    },
    {
      "cell_type": "markdown",
      "metadata": {
        "id": "j9CeMScBaTMe",
        "colab_type": "text"
      },
      "source": [
        "#### 3e. Aplicando em dados reais (série do IPCA)"
      ]
    },
    {
      "cell_type": "code",
      "metadata": {
        "id": "u1J-rE6IaaZy",
        "colab_type": "code",
        "colab": {}
      },
      "source": [
        "import matplotlib.pyplot as plt      # importando uma biblioteca para gráficos\n",
        "import pandas as pd                  # importando uma biblioteca para tabelas\n",
        "\n",
        "# endereço de uma base de variação do IPCA em formato CSV (1)\n",
        "url_bacen_ipca = 'http://api.bcb.gov.br/dados/serie/bcdata.sgs.16122/dados?formato=csv'\n",
        "\n",
        "# adquirindo os dados da internet e atribuindo o conteúdo a uma variável chamada dados\n",
        "# separador no Brasil é ;\n",
        "# casa dexcimal no Brasil é , (SI)\n",
        "dados = pd.read_csv(url_bacen_ipca, sep=';', decimal=',')\n",
        "\n",
        "dados.head()                         # imprimindo no console os 5 primeiros dados da série, para verificação"
      ],
      "execution_count": 0,
      "outputs": []
    },
    {
      "cell_type": "markdown",
      "metadata": {
        "id": "9iuEmz05iqej",
        "colab_type": "text"
      },
      "source": [
        "Tratar melhor os dados recebidos: conversões, índices e outros."
      ]
    },
    {
      "cell_type": "code",
      "metadata": {
        "id": "XYLfBrN5MpFh",
        "colab_type": "code",
        "colab": {}
      },
      "source": [
        "dados['data'] = pd.to_datetime(dados['data'], format='%d/%m/%Y') # convertendo a data, pois o padrão do python é yyyy-mm-dd\n",
        "dados = dados.set_index(['data'], drop=True)                     # definindo a data como índice da tabela\n",
        "dados.head()                                                     # imprimindo a tabela após as transformações"
      ],
      "execution_count": 0,
      "outputs": []
    },
    {
      "cell_type": "markdown",
      "metadata": {
        "id": "y0yyeWjOOfJE",
        "colab_type": "text"
      },
      "source": [
        "Finalmente, imprimindo um gráfico com a série numérica do IPCA"
      ]
    },
    {
      "cell_type": "code",
      "metadata": {
        "id": "Dp4SHy8VK2E5",
        "colab_type": "code",
        "colab": {}
      },
      "source": [
        "plt.plot(dados)          # imprime o gráfico da série temporal"
      ],
      "execution_count": 0,
      "outputs": []
    },
    {
      "cell_type": "markdown",
      "metadata": {
        "id": "TiphESFSXPeK",
        "colab_type": "text"
      },
      "source": [
        "### 4. Resumindo\n",
        "\n",
        "1. É uma linguagem simples e de rápida escrita;\n",
        "2. Python possui diversos colaboradores, por isso, um grande número de bibliotecas bem testadas e bem úteis;\n",
        "3. Um programa, por ser um script, tem garantia de reprodutibilidade;\n",
        "4. Ambiente Remoto (colab);\n",
        "5. Comandos aprendidos:\n",
        "  * impressão no console: `print()`\n",
        "  * variável: `x = 23`\n",
        "  * introdução a gráficos: plot\n",
        "    * com dados gerados;\n",
        "    * com dados reais."
      ]
    },
    {
      "cell_type": "markdown",
      "metadata": {
        "id": "kJyZGClua0u1",
        "colab_type": "text"
      },
      "source": [
        "### 5. Próximo encontro\n",
        "\n",
        "1. Variáveis\n",
        "2. Lista de dados\n",
        "3. Dicionário"
      ]
    },
    {
      "cell_type": "markdown",
      "metadata": {
        "id": "UjLqne0s4bha",
        "colab_type": "text"
      },
      "source": [
        "### 6. Exercícios\n",
        "\n",
        "#### Obrigatório\n",
        "\n",
        "1. Mudar as variáveis e valores dos exemplos e executar novamente os programas a fim de notar as diferenças nos resultados;\n",
        "2. Fazer um programa que calcule a área de um círculo, dada a variável raio;\n",
        "3. Procurar uma série de dados na internet e projetar num gráfico, por exemplo, séries de ações do mercado financeiro;\n",
        "> e.g.: https://ca.finance.yahoo.com/quote/%5Evix/history?ltr=1\n",
        "\n",
        "#### Complementar\n",
        "\n",
        "1. Instalar o Python no computador;\n",
        "2. Instalar o Anaconda com Spyder ([Anaconda](https://www.anaconda.com/));\n",
        "3. Tentar reproduzir os exemplos da aula no ambiente local;"
      ]
    },
    {
      "cell_type": "markdown",
      "metadata": {
        "id": "_2gjoEVp1qnU",
        "colab_type": "text"
      },
      "source": [
        "### 7. Referências\n",
        "\n",
        "1. [Bacen - Índice nacional de preços ao consumidor - Amplo (IPCA) - Núcleo de dupla ponderação](https://dadosabertos.bcb.gov.br/dataset/16122-indice-nacional-de-precos-ao-consumidor---amplo-ipca---nucleo-de-dupla-ponderacao)\n",
        "2. [Pandas Doc](https://pandas.pydata.org/pandas-docs/stable/)\n",
        "3. [MatPlotLib - Pyplot tutorial](https://matplotlib.org/3.1.0/tutorials/introductory/pyplot.html)"
      ]
    },
    {
      "cell_type": "markdown",
      "metadata": {
        "id": "I5HL6y5FomlS",
        "colab_type": "text"
      },
      "source": [
        "## Obrigado!"
      ]
    }
  ]
}